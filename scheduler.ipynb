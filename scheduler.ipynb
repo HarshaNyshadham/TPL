{
 "cells": [
  {
   "cell_type": "code",
   "execution_count": 4,
   "metadata": {},
   "outputs": [],
   "source": [
    "#use file name generate entire schedule\n",
    "\n",
    "import pandas as pd\n",
    "from calculation import generate_sch_from_list\n",
    "TPL_currentSeason=r'C:\\Users\\harsh\\Downloads\\TPL_Doubles.xlsx'\n",
    "df=pd.read_excel(TPL_currentSeason, engine ='openpyxl',sheet_name ='PointTable',keep_default_na=False)\n",
    "\n",
    "\n",
    "schedule_list=[]\n",
    "for d in df['Division'].unique():\n",
    "     tempDiv=df.loc[df['Division']==d]\n",
    "     for group in tempDiv['Group'].unique():\n",
    "          lst=tempDiv.loc[tempDiv['Group']==group]['Team'].to_list() #for singles Player, doubles Team\n",
    "          schedule_list.extend(generate_sch_from_list(lst))\n",
    "\n",
    "pd.DataFrame(schedule_list).to_html('temp.html')"
   ]
  },
  {
   "cell_type": "code",
   "execution_count": 1,
   "metadata": {},
   "outputs": [
    {
     "name": "stdout",
     "output_type": "stream",
     "text": [
      " Pankaj & Akshay\n",
      " Harpreet & David Clerc \n",
      " Kedar & Ramana\n",
      " Eric Salgado & Aaron\n",
      " Trent & Diego Burgi\n",
      " Ganesh & Keith\n",
      " Chavel & Randy\n",
      " Alok & Arun\n",
      " Madhu & Rajesh\n"
     ]
    },
    {
     "data": {
      "text/plain": [
       "{5.0:                        Team  Points  %games  Matches\n",
       " 0           Pankaj & Akshay       0       0        0\n",
       " 1   Harpreet & David Clerc        0       0        0\n",
       " 2            Kedar & Ramana       0       0        0\n",
       " 3      Eric Salgado & Aaron       0       0        0\n",
       " 4       Trent & Diego Burgi       0       0        0\n",
       " 5            Ganesh & Keith       0       0        0\n",
       " 6            Chavel & Randy       0       0        0\n",
       " 7               Alok & Arun       0       0        0\n",
       " 8            Madhu & Rajesh       0       0        0,\n",
       " 4.0:                                Team  Points  %games  Matches\n",
       " 9                Prasanna & Richard       0       0        0\n",
       " 10                     David/Thomas       0       0        0\n",
       " 11              Adil /  Aariz Syed        0       0        0\n",
       " 12                     Anjum/Suhail       0       0        0\n",
       " 13   Srinivas Balusu/ Sriram Venkat       0       0        0\n",
       " 14                    Raam/Satheesh       0       0        0\n",
       " 15                   Lazer/Prasanna       0       0        0\n",
       " 16            Arul/Senthil Sainath        0       0        0\n",
       " 17                   Raj/ Raj’s Son       0       0        0\n",
       " 18                   Harshil/ Ayan        0       0        0\n",
       " 19                  ⁠Logan/ Darshan       0       0        0\n",
       " 20                   ⁠Gunjan/Mahesh       0       0        0\n",
       " 21        ⁠Narayan/Karthik Ganesan        0       0        0\n",
       " 22        ⁠Leslie/Senthil Kathirvel       0       0        0,\n",
       " 4.5:                             Team  Points  %games  Matches\n",
       " 23         Chengwei & Hanson Jin       0       0        0\n",
       " 24                  Juan & Rohit       0       0        0\n",
       " 25                   Anil & Dale       0       0        0\n",
       " 26              Nihar & Vastalya       0       0        0\n",
       " 27                Gunjan & Pinku       0       0        0\n",
       " 28                Amit & Chandra       0       0        0\n",
       " 29       Dave Kusko & John Kusko       0       0        0\n",
       " 30                   Sam & Amol        0       0        0\n",
       " 31       Jesus & Francisco Diaz        0       0        0\n",
       " 32             Surya & Srikanth        0       0        0\n",
       " 33              Praveen & Arvind       0       0        0\n",
       " 34                Sunil & Sunny        0       0        0\n",
       " 35             ⁠Anand & Q Javed        0       0        0\n",
       " 36   ⁠Ravinder & Rohit Mahapatra       0       0        0}"
      ]
     },
     "execution_count": 1,
     "metadata": {},
     "output_type": "execute_result"
    }
   ],
   "source": [
    "import pandas as pd\n",
    "TPL_currentSeason=r'C:\\Users\\harsh\\Repo\\TPL\\TPL\\TPL_Doubles.xlsx'\n",
    "df_PT=pd.read_excel(TPL_currentSeason, engine ='openpyxl',sheet_name ='PointTable',keep_default_na=False)\n",
    "\n",
    "unique_divs=df_PT['Division'].unique()\n",
    "div_dict=dict.fromkeys(unique_divs)\n",
    "\n",
    "\n",
    "for div in unique_divs:\n",
    "    div_dict[div]=df_PT.loc[df_PT['Division']==div][['Team','Points','%games','Matches']]\n",
    "\n",
    "for index,row in div_dict[5.0].iterrows():\n",
    "    print(row['Team'])\n",
    "\n",
    "div_dict\n"
   ]
  },
  {
   "cell_type": "code",
   "execution_count": 2,
   "metadata": {},
   "outputs": [
    {
     "ename": "NameError",
     "evalue": "name 'pd' is not defined",
     "output_type": "error",
     "traceback": [
      "\u001b[1;31m---------------------------------------------------------------------------\u001b[0m",
      "\u001b[1;31mNameError\u001b[0m                                 Traceback (most recent call last)",
      "Cell \u001b[1;32mIn[2], line 1\u001b[0m\n\u001b[1;32m----> 1\u001b[0m sch_df\u001b[38;5;241m=\u001b[39m\u001b[43mpd\u001b[49m\u001b[38;5;241m.\u001b[39mread_excel(TPL_currentSeason, engine \u001b[38;5;241m=\u001b[39m\u001b[38;5;124m'\u001b[39m\u001b[38;5;124mopenpyxl\u001b[39m\u001b[38;5;124m'\u001b[39m,sheet_name \u001b[38;5;241m=\u001b[39m\u001b[38;5;124m'\u001b[39m\u001b[38;5;124mSchedule\u001b[39m\u001b[38;5;124m'\u001b[39m,keep_default_na\u001b[38;5;241m=\u001b[39m\u001b[38;5;28;01mFalse\u001b[39;00m)\n\u001b[0;32m      6\u001b[0m select_value\u001b[38;5;241m=\u001b[39m \u001b[38;5;124m\"\u001b[39m\u001b[38;5;124mHarpreet & David Clerc\u001b[39m\u001b[38;5;124m\"\u001b[39m\n\u001b[0;32m      7\u001b[0m \u001b[38;5;28;01mfor\u001b[39;00m index,row \u001b[38;5;129;01min\u001b[39;00m sch_df\u001b[38;5;241m.\u001b[39miterrows():\n",
      "\u001b[1;31mNameError\u001b[0m: name 'pd' is not defined"
     ]
    }
   ],
   "source": [
    "sch_df=pd.read_excel(TPL_currentSeason, engine ='openpyxl',sheet_name ='Schedule',keep_default_na=False)\n",
    "\n",
    "\n",
    "\n",
    "\n",
    "select_value= \"Harpreet & David Clerc\"\n",
    "for index,row in sch_df.iterrows():\n",
    "  if(select_value==row['Team1'] or select_value==row['Team2']):\n",
    "    print('yes')"
   ]
  },
  {
   "cell_type": "markdown",
   "metadata": {},
   "source": [
    " <!-- jQuery CDN - Slim version (=without AJAX) -->\n",
    "    <script src=\"https://code.jquery.com/jquery-3.3.1.slim.min.js\" integrity=\"sha384-q8i/X+965DzO0rT7abK41JStQIAqVgRVzpbzo5smXKp4YfRvH+8abtTE1Pi6jizo\" crossorigin=\"anonymous\"></script>\n",
    "    <!-- Popper.JS -->\n",
    "    <script src=\"https://cdnjs.cloudflare.com/ajax/libs/popper.js/1.14.0/umd/popper.min.js\" integrity=\"sha384-cs/chFZiN24E4KMATLdqdvsezGxaGsi4hLGOzlXwp5UZB1LY//20VyM2taTB4QvJ\" crossorigin=\"anonymous\"></script>\n",
    "    <!-- Bootstrap JS -->\n",
    "    <script src=\"https://stackpath.bootstrapcdn.com/bootstrap/4.1.0/js/bootstrap.min.js\" integrity=\"sha384-uefMccjFJAIv6A+rW+L4AHf99KvxDjWSu1z9VI8SKNVmz4sk7buKt/6v9KI65qnm\" crossorigin=\"anonymous\"></script>"
   ]
  },
  {
   "cell_type": "code",
   "execution_count": null,
   "metadata": {},
   "outputs": [],
   "source": []
  }
 ],
 "metadata": {
  "kernelspec": {
   "display_name": ".venv",
   "language": "python",
   "name": "python3"
  },
  "language_info": {
   "codemirror_mode": {
    "name": "ipython",
    "version": 3
   },
   "file_extension": ".py",
   "mimetype": "text/x-python",
   "name": "python",
   "nbconvert_exporter": "python",
   "pygments_lexer": "ipython3",
   "version": "3.11.0"
  }
 },
 "nbformat": 4,
 "nbformat_minor": 2
}

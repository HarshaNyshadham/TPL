{
 "cells": [
  {
   "cell_type": "code",
   "execution_count": 2,
   "metadata": {},
   "outputs": [],
   "source": [
    "#Given list between date generate schedule\n",
    "#this is test\n",
    "import pandas as pd\n",
    "temp=[]\n",
    "lst=['Arun',\n",
    "'David Clerc',\n",
    "'Lucio Rivera',\n",
    "'Harpreet',\n",
    "'Pankaj Nerkar',\n",
    "'Abel',\n",
    "'Rodrigo',\n",
    "'Christopher Cucchiara',\n",
    "'Nihar ']\n",
    "\n",
    "\n",
    "def generate_schld_frm_list(lst):\n",
    "    temp=[]\n",
    "    for i in range(len(lst)):\n",
    "        for j in range(i+1,len(lst)):\n",
    "            temp.append([lst[i],lst[j],'x'])\n",
    "    return temp\n",
    "\n",
    "temp=generate_schld_frm_list(lst)\n",
    "pd.DataFrame(temp).to_html('temp.html')"
   ]
  },
  {
   "cell_type": "code",
   "execution_count": 4,
   "metadata": {},
   "outputs": [],
   "source": [
    "import pandas as pd\n",
    "TPL_currentSeason=r'C:\\Users\\harsh\\Repo\\TPL\\TPL\\TPL_currentseason.xlsx'\n",
    "df=pd.read_excel(TPL_currentSeason, engine ='openpyxl',sheet_name ='PointTable',keep_default_na=False)\n",
    "\n",
    "\n",
    "schedule_list=[]\n",
    "for d in df['Division'].unique():\n",
    "     tempDiv=df.loc[df['Division']==d]\n",
    "     for group in tempDiv['Group'].unique():\n",
    "          lst=tempDiv.loc[tempDiv['Group']==group]['Player'].to_list()\n",
    "          schedule_list.extend(generate_schld_frm_list(lst))\n",
    "\n",
    "pd.DataFrame(schedule_list).to_html('temp.html')"
   ]
  },
  {
   "cell_type": "code",
   "execution_count": 7,
   "metadata": {},
   "outputs": [
    {
     "name": "stdout",
     "output_type": "stream",
     "text": [
      " Pankaj & Akshay\n",
      " Harpreet & David Clerc \n",
      " Kedar & Ramana\n",
      " Eric Salgado & Aaron\n",
      " Trent & Diego Burgi\n",
      " Ganesh & Keith\n",
      " Chavel & Randy\n",
      " Alok & Arun\n",
      " Madhu & Rajesh\n"
     ]
    }
   ],
   "source": [
    "TPL_currentSeason=r'C:\\Users\\harsh\\Repo\\TPL\\TPL\\TPL_Doubles.xlsx'\n",
    "df_PT=pd.read_excel(TPL_currentSeason, engine ='openpyxl',sheet_name ='PointTable',keep_default_na=False)\n",
    "\n",
    "unique_divs=df_PT['Division'].unique()\n",
    "div_dict=dict.fromkeys(unique_divs)\n",
    "\n",
    "\n",
    "for div in unique_divs:\n",
    "    div_dict[div]=df_PT.loc[df_PT['Division']==div][['Team','Points','%games','Matches']]\n",
    "\n",
    "for index,row in div_dict[5.0].iterrows():\n",
    "    print(row['Team'])\n"
   ]
  },
  {
   "cell_type": "code",
   "execution_count": 11,
   "metadata": {},
   "outputs": [
    {
     "name": "stdout",
     "output_type": "stream",
     "text": [
      "yes\n",
      "yes\n",
      "yes\n",
      "yes\n",
      "yes\n",
      "yes\n",
      "yes\n",
      "yes\n"
     ]
    }
   ],
   "source": [
    "sch_df=pd.read_excel(TPL_currentSeason, engine ='openpyxl',sheet_name ='Schedule',keep_default_na=False)\n",
    "\n",
    "\n",
    "\n",
    "\n",
    "select_value= \"Harpreet & David Clerc\"\n",
    "for index,row in sch_df.iterrows():\n",
    "  if(select_value==row['Team1'] or select_value==row['Team2']):\n",
    "    print('yes')"
   ]
  },
  {
   "cell_type": "markdown",
   "metadata": {},
   "source": [
    " <!-- jQuery CDN - Slim version (=without AJAX) -->\n",
    "    <script src=\"https://code.jquery.com/jquery-3.3.1.slim.min.js\" integrity=\"sha384-q8i/X+965DzO0rT7abK41JStQIAqVgRVzpbzo5smXKp4YfRvH+8abtTE1Pi6jizo\" crossorigin=\"anonymous\"></script>\n",
    "    <!-- Popper.JS -->\n",
    "    <script src=\"https://cdnjs.cloudflare.com/ajax/libs/popper.js/1.14.0/umd/popper.min.js\" integrity=\"sha384-cs/chFZiN24E4KMATLdqdvsezGxaGsi4hLGOzlXwp5UZB1LY//20VyM2taTB4QvJ\" crossorigin=\"anonymous\"></script>\n",
    "    <!-- Bootstrap JS -->\n",
    "    <script src=\"https://stackpath.bootstrapcdn.com/bootstrap/4.1.0/js/bootstrap.min.js\" integrity=\"sha384-uefMccjFJAIv6A+rW+L4AHf99KvxDjWSu1z9VI8SKNVmz4sk7buKt/6v9KI65qnm\" crossorigin=\"anonymous\"></script>"
   ]
  }
 ],
 "metadata": {
  "kernelspec": {
   "display_name": ".venv",
   "language": "python",
   "name": "python3"
  },
  "language_info": {
   "codemirror_mode": {
    "name": "ipython",
    "version": 3
   },
   "file_extension": ".py",
   "mimetype": "text/x-python",
   "name": "python",
   "nbconvert_exporter": "python",
   "pygments_lexer": "ipython3",
   "version": "3.11.0"
  }
 },
 "nbformat": 4,
 "nbformat_minor": 2
}

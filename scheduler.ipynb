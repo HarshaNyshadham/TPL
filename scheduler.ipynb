{
 "cells": [
  {
   "cell_type": "code",
   "execution_count": 5,
   "metadata": {},
   "outputs": [],
   "source": [
    "#Given list between date generate schedule\n",
    "#this is test\n",
    "import pandas as pd\n",
    "temp=[]\n",
    "lst=['Arun',\n",
    "'David Clerc',\n",
    "'Lucio Rivera',\n",
    "'Harpreet',\n",
    "'Pankaj Nerkar',\n",
    "'Abel',\n",
    "'Rodrigo',\n",
    "'Christopher Cucchiara',\n",
    "'Nihar ']\n",
    "\n",
    "\n",
    "def generate_schld_frm_list(lst):\n",
    "    temp=[]\n",
    "    for i in range(len(lst)):\n",
    "        for j in range(i+1,len(lst)):\n",
    "            temp.append([lst[i],lst[j],'x'])\n",
    "    return temp\n",
    "\n",
    "temp=generate_schld_frm_list(lst)\n",
    "pd.DataFrame(temp).to_html('temp.html')"
   ]
  },
  {
   "cell_type": "code",
   "execution_count": 4,
   "metadata": {},
   "outputs": [],
   "source": [
    "import pandas as pd\n",
    "TPL_currentSeason=r'C:\\Users\\harsh\\Repo\\TPL\\TPL\\TPL_currentseason.xlsx'\n",
    "df=pd.read_excel(TPL_currentSeason, engine ='openpyxl',sheet_name ='PointTable',keep_default_na=False)\n",
    "\n",
    "\n",
    "schedule_list=[]\n",
    "for d in df['Division'].unique():\n",
    "     tempDiv=df.loc[df['Division']==d]\n",
    "     for group in tempDiv['Group'].unique():\n",
    "          lst=tempDiv.loc[tempDiv['Group']==group]['Player'].to_list()\n",
    "          schedule_list.extend(generate_schld_frm_list(lst))\n",
    "\n",
    "pd.DataFrame(schedule_list).to_html('temp.html')"
   ]
  },
  {
   "cell_type": "code",
   "execution_count": 56,
   "metadata": {},
   "outputs": [
    {
     "name": "stdout",
     "output_type": "stream",
     "text": [
      " Pankaj & Akshay\n",
      " Harpreet & David Clerc \n",
      " Kedar & Ramana\n",
      " Eric Salgado & Aaron\n",
      " Trent & Diego Burgi\n",
      " Ganesh & Keith\n",
      " Chavel & Randy\n",
      " Alok & Arun\n",
      " Madhu & Rajesh\n"
     ]
    }
   ],
   "source": [
    "TPL_currentSeason=r'C:\\Users\\harsh\\Repo\\TPL\\TPL\\TPL_doubles_test.xlsx'\n",
    "df_PT=pd.read_excel(TPL_currentSeason, engine ='openpyxl',sheet_name ='PointTable',keep_default_na=False)\n",
    "\n",
    "unique_divs=df_PT['Division'].unique()\n",
    "div_dict=dict.fromkeys(unique_divs)\n",
    "\n",
    "\n",
    "for div in unique_divs:\n",
    "    div_dict[div]=df_PT.loc[df_PT['Division']==div][['Player','Points','%games','Matches']]\n",
    "\n",
    "for index,row in div_dict[5.0].iterrows():\n",
    "    print(row['Player'])\n"
   ]
  },
  {
   "cell_type": "code",
   "execution_count": 44,
   "metadata": {},
   "outputs": [
    {
     "data": {
      "text/html": [
       "<div>\n",
       "<style scoped>\n",
       "    .dataframe tbody tr th:only-of-type {\n",
       "        vertical-align: middle;\n",
       "    }\n",
       "\n",
       "    .dataframe tbody tr th {\n",
       "        vertical-align: top;\n",
       "    }\n",
       "\n",
       "    .dataframe thead th {\n",
       "        text-align: right;\n",
       "    }\n",
       "</style>\n",
       "<table border=\"1\" class=\"dataframe\">\n",
       "  <thead>\n",
       "    <tr style=\"text-align: right;\">\n",
       "      <th></th>\n",
       "      <th>Player</th>\n",
       "      <th>Points</th>\n",
       "      <th>%games</th>\n",
       "      <th>Matches</th>\n",
       "    </tr>\n",
       "  </thead>\n",
       "  <tbody>\n",
       "    <tr>\n",
       "      <th>0</th>\n",
       "      <td>Pankaj &amp; Akshay</td>\n",
       "      <td>0</td>\n",
       "      <td>0</td>\n",
       "      <td>0</td>\n",
       "    </tr>\n",
       "    <tr>\n",
       "      <th>1</th>\n",
       "      <td>Harpreet &amp; David Clerc</td>\n",
       "      <td>0</td>\n",
       "      <td>0</td>\n",
       "      <td>0</td>\n",
       "    </tr>\n",
       "    <tr>\n",
       "      <th>2</th>\n",
       "      <td>Kedar &amp; Ramana</td>\n",
       "      <td>0</td>\n",
       "      <td>0</td>\n",
       "      <td>0</td>\n",
       "    </tr>\n",
       "    <tr>\n",
       "      <th>3</th>\n",
       "      <td>Eric Salgado &amp; Aaron</td>\n",
       "      <td>0</td>\n",
       "      <td>0</td>\n",
       "      <td>0</td>\n",
       "    </tr>\n",
       "    <tr>\n",
       "      <th>4</th>\n",
       "      <td>Trent &amp; Diego Burgi</td>\n",
       "      <td>0</td>\n",
       "      <td>0</td>\n",
       "      <td>0</td>\n",
       "    </tr>\n",
       "    <tr>\n",
       "      <th>5</th>\n",
       "      <td>Ganesh &amp; Keith</td>\n",
       "      <td>0</td>\n",
       "      <td>0</td>\n",
       "      <td>0</td>\n",
       "    </tr>\n",
       "    <tr>\n",
       "      <th>6</th>\n",
       "      <td>Chavel &amp; Randy</td>\n",
       "      <td>0</td>\n",
       "      <td>0</td>\n",
       "      <td>0</td>\n",
       "    </tr>\n",
       "    <tr>\n",
       "      <th>7</th>\n",
       "      <td>Alok &amp; Arun</td>\n",
       "      <td>0</td>\n",
       "      <td>0</td>\n",
       "      <td>0</td>\n",
       "    </tr>\n",
       "    <tr>\n",
       "      <th>8</th>\n",
       "      <td>Madhu &amp; Rajesh</td>\n",
       "      <td>0</td>\n",
       "      <td>0</td>\n",
       "      <td>0</td>\n",
       "    </tr>\n",
       "  </tbody>\n",
       "</table>\n",
       "</div>"
      ],
      "text/plain": [
       "                     Player  Points  %games  Matches\n",
       "0           Pankaj & Akshay       0       0        0\n",
       "1   Harpreet & David Clerc        0       0        0\n",
       "2            Kedar & Ramana       0       0        0\n",
       "3      Eric Salgado & Aaron       0       0        0\n",
       "4       Trent & Diego Burgi       0       0        0\n",
       "5            Ganesh & Keith       0       0        0\n",
       "6            Chavel & Randy       0       0        0\n",
       "7               Alok & Arun       0       0        0\n",
       "8            Madhu & Rajesh       0       0        0"
      ]
     },
     "execution_count": 44,
     "metadata": {},
     "output_type": "execute_result"
    }
   ],
   "source": [
    "df_PT.loc[df_PT['Division']==5.0][['Player','Points','%games','Matches']]"
   ]
  },
  {
   "cell_type": "markdown",
   "metadata": {},
   "source": [
    " <!-- jQuery CDN - Slim version (=without AJAX) -->\n",
    "    <script src=\"https://code.jquery.com/jquery-3.3.1.slim.min.js\" integrity=\"sha384-q8i/X+965DzO0rT7abK41JStQIAqVgRVzpbzo5smXKp4YfRvH+8abtTE1Pi6jizo\" crossorigin=\"anonymous\"></script>\n",
    "    <!-- Popper.JS -->\n",
    "    <script src=\"https://cdnjs.cloudflare.com/ajax/libs/popper.js/1.14.0/umd/popper.min.js\" integrity=\"sha384-cs/chFZiN24E4KMATLdqdvsezGxaGsi4hLGOzlXwp5UZB1LY//20VyM2taTB4QvJ\" crossorigin=\"anonymous\"></script>\n",
    "    <!-- Bootstrap JS -->\n",
    "    <script src=\"https://stackpath.bootstrapcdn.com/bootstrap/4.1.0/js/bootstrap.min.js\" integrity=\"sha384-uefMccjFJAIv6A+rW+L4AHf99KvxDjWSu1z9VI8SKNVmz4sk7buKt/6v9KI65qnm\" crossorigin=\"anonymous\"></script>"
   ]
  }
 ],
 "metadata": {
  "kernelspec": {
   "display_name": ".venv",
   "language": "python",
   "name": "python3"
  },
  "language_info": {
   "codemirror_mode": {
    "name": "ipython",
    "version": 3
   },
   "file_extension": ".py",
   "mimetype": "text/x-python",
   "name": "python",
   "nbconvert_exporter": "python",
   "pygments_lexer": "ipython3",
   "version": "3.11.0"
  }
 },
 "nbformat": 4,
 "nbformat_minor": 2
}

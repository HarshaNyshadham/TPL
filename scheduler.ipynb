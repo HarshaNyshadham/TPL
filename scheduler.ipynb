{
 "cells": [
  {
   "cell_type": "code",
   "execution_count": 20,
   "metadata": {},
   "outputs": [],
   "source": [
    "#Given list between date generate schedule\n",
    "#this is test\n",
    "import pandas as pd\n",
    "temp=[]\n",
    "lst=['Arun',\n",
    "'David Clerc',\n",
    "'Lucio Rivera',\n",
    "'Harpreet',\n",
    "'Pankaj Nerkar',\n",
    "'Abel',\n",
    "'Rodrigo',\n",
    "'Christopher Cucchiara',\n",
    "'Nihar ']\n",
    "\n",
    "\n",
    "def generate_schld_frm_list(lst):\n",
    "    temp=[]\n",
    "    for i in range(len(lst)):\n",
    "        for j in range(i+1,len(lst)):\n",
    "            temp.append([lst[i],lst[j],'x'])\n",
    "    return temp\n",
    "\n",
    "temp=generate_schld_frm_list(lst)\n",
    "pd.DataFrame(temp).to_html('temp.html')"
   ]
  },
  {
   "cell_type": "code",
   "execution_count": 30,
   "metadata": {},
   "outputs": [],
   "source": [
    "TPL_currentSeason=r'C:\\Users\\harsh\\Repo\\TPL\\TPL\\TPL_currentseason.xlsx'\n",
    "df=pd.read_excel(TPL_currentSeason, engine ='openpyxl',sheet_name ='PointTable',keep_default_na=False)\n",
    "\n",
    "\n",
    "schedule_list=[]\n",
    "for d in df['Division'].unique():\n",
    "     tempDiv=df.loc[df['Division']==d]\n",
    "     for group in tempDiv['Group'].unique():\n",
    "          lst=tempDiv.loc[tempDiv['Group']==group]['Player'].to_list()\n",
    "          schedule_list.extend(generate_schld_frm_list(lst))\n",
    "\n",
    "pd.DataFrame(schedule_list).to_html('temp.html')"
   ]
  },
  {
   "cell_type": "code",
   "execution_count": 15,
   "metadata": {},
   "outputs": [
    {
     "data": {
      "text/plain": [
       "0     1\n",
       "1     1\n",
       "2     1\n",
       "3     1\n",
       "4     1\n",
       "5     1\n",
       "6     1\n",
       "7     1\n",
       "8     1\n",
       "9     2\n",
       "10    2\n",
       "11    2\n",
       "12    2\n",
       "13    2\n",
       "14    2\n",
       "15    2\n",
       "16    2\n",
       "Name: Group, dtype: int64"
      ]
     },
     "execution_count": 15,
     "metadata": {},
     "output_type": "execute_result"
    }
   ],
   "source": [
    "tempDiv=df.loc[df['Division']==5]\n",
    "tempDiv['Group']"
   ]
  },
  {
   "cell_type": "markdown",
   "metadata": {},
   "source": [
    " <!-- jQuery CDN - Slim version (=without AJAX) -->\n",
    "    <script src=\"https://code.jquery.com/jquery-3.3.1.slim.min.js\" integrity=\"sha384-q8i/X+965DzO0rT7abK41JStQIAqVgRVzpbzo5smXKp4YfRvH+8abtTE1Pi6jizo\" crossorigin=\"anonymous\"></script>\n",
    "    <!-- Popper.JS -->\n",
    "    <script src=\"https://cdnjs.cloudflare.com/ajax/libs/popper.js/1.14.0/umd/popper.min.js\" integrity=\"sha384-cs/chFZiN24E4KMATLdqdvsezGxaGsi4hLGOzlXwp5UZB1LY//20VyM2taTB4QvJ\" crossorigin=\"anonymous\"></script>\n",
    "    <!-- Bootstrap JS -->\n",
    "    <script src=\"https://stackpath.bootstrapcdn.com/bootstrap/4.1.0/js/bootstrap.min.js\" integrity=\"sha384-uefMccjFJAIv6A+rW+L4AHf99KvxDjWSu1z9VI8SKNVmz4sk7buKt/6v9KI65qnm\" crossorigin=\"anonymous\"></script>"
   ]
  }
 ],
 "metadata": {
  "kernelspec": {
   "display_name": ".venv",
   "language": "python",
   "name": "python3"
  },
  "language_info": {
   "codemirror_mode": {
    "name": "ipython",
    "version": 3
   },
   "file_extension": ".py",
   "mimetype": "text/x-python",
   "name": "python",
   "nbconvert_exporter": "python",
   "pygments_lexer": "ipython3",
   "version": "3.11.0"
  }
 },
 "nbformat": 4,
 "nbformat_minor": 2
}

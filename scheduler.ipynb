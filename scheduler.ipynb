{
 "cells": [
  {
   "cell_type": "code",
   "execution_count": 21,
   "metadata": {},
   "outputs": [],
   "source": [
    "#Given list between date generate schedule\n",
    "#this is test\n",
    "import pandas as pd\n",
    "temp=[]\n",
    "lst=['Amol/Sam',\n",
    "'David/Thomas',\n",
    "'Srini Challa/Amol Phadke',\n",
    "'Srinivas Reddy / Bharat',\n",
    "'Rajeev/Ricky',\n",
    "'Logan/Surya',\n",
    "'Anjum/Suhail',\n",
    "'Harshil/Kiran Iyer',\n",
    "'Adil / Aariz Syed',\n",
    "'Madhusudhana / Pinku',\n",
    "'Mubashir / Asher Ahmed',\n",
    "'Praveen / Srikanth']\n",
    "for i in range(len(lst)):\n",
    "    for j in range(i+1,len(lst)):\n",
    "        temp.append([lst[i],lst[j],'x'])\n",
    "\n",
    "pd.DataFrame(temp).to_html('temp.html')"
   ]
  }
 ],
 "metadata": {
  "kernelspec": {
   "display_name": ".venv",
   "language": "python",
   "name": "python3"
  },
  "language_info": {
   "codemirror_mode": {
    "name": "ipython",
    "version": 3
   },
   "file_extension": ".py",
   "mimetype": "text/x-python",
   "name": "python",
   "nbconvert_exporter": "python",
   "pygments_lexer": "ipython3",
   "version": "3.11.0"
  }
 },
 "nbformat": 4,
 "nbformat_minor": 2
}
